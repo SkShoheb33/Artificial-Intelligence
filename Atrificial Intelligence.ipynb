{
 "cells": [
  {
   "cell_type": "code",
   "execution_count": 1,
   "id": "8e3a652d",
   "metadata": {},
   "outputs": [],
   "source": [
    "class Graph:\n",
    "  def __init__(self,graph,start_state,goal_state):\n",
    "    self.graph = graph\n",
    "    self.start_state = start_state\n",
    "    self.goal_state = goal_state\n",
    "  def bfs(self):\n",
    "    open = [self.start_state]\n",
    "    closed = []\n",
    "    x = ''\n",
    "    count = 0\n",
    "    while x!=self.goal_state:\n",
    "      print(count,x,open,closed)\n",
    "      x = open[0]\n",
    "      for i in self.graph[x]:\n",
    "        if i not in open:\n",
    "          open.append(i)\n",
    "      closed.insert(0,x)\n",
    "      open = open[1:]\n",
    "      count += 1\n",
    "  def dfs(self):\n",
    "    open = [self.start_state]\n",
    "    closed = []\n",
    "    x = ''\n",
    "    while x != self.goal_state:\n",
    "        x =  open[0]\n",
    "        open = self.graph[x] + open[1:]\n",
    "        closed.append(x)\n",
    "        print(x,open,closed)"
   ]
  },
  {
   "cell_type": "code",
   "execution_count": 6,
   "id": "987b4d16",
   "metadata": {},
   "outputs": [
    {
     "name": "stdout",
     "output_type": "stream",
     "text": [
      "A ['B', 'C', 'D'] ['A']\n",
      "B ['E', 'F', 'C', 'D'] ['A', 'B']\n",
      "E ['H', 'I', 'F', 'C', 'D'] ['A', 'B', 'E']\n",
      "H ['I', 'F', 'C', 'D'] ['A', 'B', 'E', 'H']\n",
      "I ['F', 'C', 'D'] ['A', 'B', 'E', 'H', 'I']\n",
      "F ['J', 'C', 'D'] ['A', 'B', 'E', 'H', 'I', 'F']\n",
      "J ['C', 'D'] ['A', 'B', 'E', 'H', 'I', 'F', 'J']\n",
      "C ['F', 'G', 'D'] ['A', 'B', 'E', 'H', 'I', 'F', 'J', 'C']\n",
      "F ['J', 'G', 'D'] ['A', 'B', 'E', 'H', 'I', 'F', 'J', 'C', 'F']\n",
      "J ['G', 'D'] ['A', 'B', 'E', 'H', 'I', 'F', 'J', 'C', 'F', 'J']\n",
      "G ['D'] ['A', 'B', 'E', 'H', 'I', 'F', 'J', 'C', 'F', 'J', 'G']\n"
     ]
    }
   ],
   "source": [
    "\n",
    "obj = Graph(graph,'A','G')\n",
    "# obj.bfs()\n",
    "obj.dfs()"
   ]
  },
  {
   "cell_type": "code",
   "execution_count": 4,
   "id": "c5adc462",
   "metadata": {},
   "outputs": [
    {
     "name": "stdout",
     "output_type": "stream",
     "text": [
      "Enter number of nodes : 10\n",
      "enter parent node : A\n",
      "enter number of childs : 3\n",
      "Enter child node :B\n",
      "Enter child node :C\n",
      "Enter child node :D\n",
      "enter parent node : B\n",
      "enter number of childs : 2\n",
      "Enter child node :E\n",
      "Enter child node :F\n",
      "enter parent node : C\n",
      "enter number of childs : 2\n",
      "Enter child node :F\n",
      "Enter child node :G\n",
      "enter parent node : D\n",
      "enter number of childs : 0\n",
      "enter parent node : E\n",
      "enter number of childs : 2\n",
      "Enter child node :H\n",
      "Enter child node :I\n",
      "enter parent node : F\n",
      "enter number of childs : 1\n",
      "Enter child node :J\n",
      "enter parent node : G\n",
      "enter number of childs : 0\n",
      "enter parent node : H\n",
      "enter number of childs : 0\n",
      "enter parent node : I\n",
      "enter number of childs : 0\n",
      "enter parent node : J\n",
      "enter number of childs : 0\n",
      "{'A': ['B', 'C', 'D'], 'B': ['E', 'F'], 'C': ['F', 'G'], 'D': [], 'E': ['H', 'I'], 'F': ['J'], 'G': [], 'H': [], 'I': [], 'J': []}\n"
     ]
    }
   ],
   "source": [
    "graph = {}\n",
    "n = int(input(\"Enter number of nodes : \"))\n",
    "for i in range(n):\n",
    "    parent = input(\"enter parent node : \")\n",
    "    m = int(input(\"enter number of childs : \"))\n",
    "    graph[parent] = []\n",
    "    for j in range(m):\n",
    "        child = input(\"Enter child node :\")\n",
    "        graph[parent].append(child)\n",
    "print(graph)"
   ]
  },
  {
   "cell_type": "code",
   "execution_count": null,
   "id": "053e5916",
   "metadata": {},
   "outputs": [],
   "source": [
    "# graph = {'A':['B','C','D'],'B':['E','F'],'C':['F','G'],'D':[],'E':['H','I'],'F':['J'],'G':[]}\n",
    "# graph = {'A':['B','C','D'],'B':['E','F'],'C':['G','H'],'D':['I','J'],'E':['K','L'],'F':['L','M'],'G':['N'],'H':['O','P'],'I':['P','Q'],'J':['R'],'K':['S'],'L':['T'],'M':[],'N':[],'O':[],'P':['U'],'Q':[],'R':[],'S':[],'T':[],'U':[]}"
   ]
  },
  {
   "cell_type": "code",
   "execution_count": 5,
   "id": "31e4e8d1",
   "metadata": {},
   "outputs": [
    {
     "data": {
      "text/plain": [
       "{'A': ['B', 'C', 'D'],\n",
       " 'B': ['E', 'F'],\n",
       " 'C': ['F', 'G'],\n",
       " 'D': [],\n",
       " 'E': ['H', 'I'],\n",
       " 'F': ['J'],\n",
       " 'G': [],\n",
       " 'H': [],\n",
       " 'I': [],\n",
       " 'J': []}"
      ]
     },
     "execution_count": 5,
     "metadata": {},
     "output_type": "execute_result"
    }
   ],
   "source": [
    "graph"
   ]
  },
  {
   "cell_type": "code",
   "execution_count": 48,
   "id": "d4fdab77",
   "metadata": {},
   "outputs": [],
   "source": [
    "class WaterJugProbelm:\n",
    "    def __init__(self,m,n,goal):\n",
    "        self.graph = {}\n",
    "        self.x = (0,0)\n",
    "        self.graph[self.x] = []\n",
    "        self.goal = goal\n",
    "        self.m = m\n",
    "        self.n = n\n",
    "    def generate(self):\n",
    "        open =[self.x]\n",
    "        closed = []\n",
    "        m = self.m\n",
    "        n = self.n\n",
    "#         visited = [self.x]\n",
    "        while self.x!=(self.goal,0):\n",
    "            #filling first jug\n",
    "            if self.x[0]<m:\n",
    "                self.graph[self.x].append((m,self.x[1]))\n",
    "            #filling second jug\n",
    "#             if self.x[1]<n:\n",
    "#                 self.graph[self.x].append((self.x[0],n))\n",
    "            #empty first jug\n",
    "            if self.x[0]>0:\n",
    "                self.graph[self.x].append((0,self.x[1]))\n",
    "            #empty second jug\n",
    "            if self.x[1]>0:\n",
    "                self.graph[self.x].append((self.x[0],0))\n",
    "            #transfer into fisrt jug\n",
    "            if self.x[0]<m:\n",
    "                if self.x[1]>0:\n",
    "                    if self.x[0]+self.x[1]<=m:\n",
    "                        self.graph[self.x].append((self.x[0]+self.x[1],0))\n",
    "                    else:\n",
    "                        self.graph[self.x].append((m,self.x[0]+self.x[1]-m))\n",
    "            #transfer into second jug\n",
    "            if self.x[1]<n:\n",
    "                if self.x[0]>0:\n",
    "                    if self.x[0]+self.x[1]<=n:\n",
    "                        self.graph[self.x].append((0,self.x[0]+self.x[1]))\n",
    "                    else:\n",
    "                        self.graph[self.x].append((self.x[0]+self.x[1]-n,n))\n",
    "#             visited.append(self.x)\n",
    "#             bfs implementation    \n",
    "            for i in self.graph[self.x]:\n",
    "                if i not in closed:\n",
    "                    open.append(i)\n",
    "            closed.append(self.x)        \n",
    "            open = open[1:]\n",
    "            self.x = open[0]\n",
    "            self.graph[self.x] = []\n",
    "#         print(open)\n",
    "            \n",
    "    def printPath(self):\n",
    "        nodes = list(self.graph.keys())\n",
    "        nodes.reverse()\n",
    "        path = [nodes[0]]\n",
    "        for i in range(1,len(nodes)):\n",
    "            if path[-1] in self.graph[nodes[i]]:\n",
    "                path.append(nodes[i])\n",
    "        path.reverse()\n",
    "        print(path)"
   ]
  },
  {
   "cell_type": "code",
   "execution_count": 50,
   "id": "e5e6f0eb",
   "metadata": {},
   "outputs": [
    {
     "name": "stdout",
     "output_type": "stream",
     "text": [
      "[(0, 0), (4, 0), (1, 3), (1, 0), (0, 1), (4, 1), (2, 3), (2, 0)]\n"
     ]
    }
   ],
   "source": [
    "obj = WaterJugProbelm(4,3,2)\n",
    "obj.generate()\n",
    "obj.printPath()"
   ]
  }
 ],
 "metadata": {
  "kernelspec": {
   "display_name": "Python 3 (ipykernel)",
   "language": "python",
   "name": "python3"
  },
  "language_info": {
   "codemirror_mode": {
    "name": "ipython",
    "version": 3
   },
   "file_extension": ".py",
   "mimetype": "text/x-python",
   "name": "python",
   "nbconvert_exporter": "python",
   "pygments_lexer": "ipython3",
   "version": "3.9.7"
  }
 },
 "nbformat": 4,
 "nbformat_minor": 5
}
